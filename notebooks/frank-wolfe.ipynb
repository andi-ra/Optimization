{
 "cells": [
  {
   "cell_type": "markdown",
   "source": [
    "# Metodo Frank & Wolfe\n",
    "\n",
    "Questo file risolve il problema dell'equilibrio su reti usato con la base del libro \"Data Networks,\" (2nd edition)\n",
    "Prentice Hall, 1992, ISBN 0132009161. Per la risoluzione di questo problema si usa l'algoritmo di Frank & Wolfe per\n",
    "la risoluzione del problema di ottimizzazione che ne deriva dal calcolo di equilibrio su reti. Non approfondisco le\n",
    "ipotesi che portano a questa formulazione, sono molto semplici."
   ],
   "metadata": {
    "collapsed": false
   }
  },
  {
   "cell_type": "code",
   "execution_count": 1,
   "outputs": [],
   "source": [
    "import numpy\n",
    "import numpy as np\n",
    "import sympy as sym\n",
    "from sympy import init_printing\n",
    "import warnings\n",
    "\n",
    "warnings.filterwarnings(\"ignore\", category=UserWarning)\n",
    "from IPython.display import display, Math\n",
    "\n",
    "x1, x2, x3 = sym.symbols('x1, x2, x3')\n",
    "x = sym.Matrix([[x1], [x2], [x3]])\n",
    "Q = sym.Matrix([[1, 0, 0], [0, 1, 0], [0, 0, 0.1]])\n",
    "c = sym.Matrix([[0], [0], [0.55]])"
   ],
   "metadata": {
    "collapsed": false,
    "pycharm": {
     "name": "#%%\n"
    }
   }
  },
  {
   "cell_type": "markdown",
   "source": [
    "Adesso posso visualizzare la funzione obiettivo come espressione bellina"
   ],
   "metadata": {
    "collapsed": false
   }
  },
  {
   "cell_type": "code",
   "execution_count": 2,
   "outputs": [
    {
     "data": {
      "text/plain": "⎡      2         2          2          ⎤\n⎣0.5⋅x₁  + 0.5⋅x₂  + 0.05⋅x₃  + 0.55⋅x₃⎦",
      "text/latex": "$\\displaystyle \\left[\\begin{matrix}0.5 x_{1}^{2} + 0.5 x_{2}^{2} + 0.05 x_{3}^{2} + 0.55 x_{3}\\end{matrix}\\right]$"
     },
     "execution_count": 2,
     "metadata": {},
     "output_type": "execute_result"
    }
   ],
   "source": [
    "init_printing()\n",
    "\n",
    "obj = 0.5 * (x.T * Q * x) + c.T * x\n",
    "obj"
   ],
   "metadata": {
    "collapsed": false,
    "pycharm": {
     "name": "#%%\n"
    }
   }
  },
  {
   "cell_type": "markdown",
   "source": [
    "Adesso visualizzo anche l'obiettivo al punto iniziale:"
   ],
   "metadata": {
    "collapsed": false
   }
  },
  {
   "cell_type": "code",
   "execution_count": 3,
   "outputs": [
    {
     "data": {
      "text/plain": "<IPython.core.display.Math object>",
      "text/latex": "$\\displaystyle D(x_0): 0.2945$"
     },
     "metadata": {},
     "output_type": "display_data"
    }
   ],
   "source": [
    "cost = obj.subs({x1: 0.4, x2: 0.3, x3: 0.3})\n",
    "display(Math(r'D(x_0): {:.4f}'.format(cost[0])))"
   ],
   "metadata": {
    "collapsed": false,
    "pycharm": {
     "name": "#%%\n"
    }
   }
  },
  {
   "cell_type": "markdown",
   "source": [
    "Adesso posso visualizzare la funzione con lo step size e l'aggiornamento"
   ],
   "metadata": {
    "collapsed": false
   }
  },
  {
   "cell_type": "code",
   "execution_count": 4,
   "outputs": [
    {
     "data": {
      "text/plain": "<IPython.core.display.Math object>",
      "text/latex": "$\\displaystyle d_k: $"
     },
     "metadata": {},
     "output_type": "display_data"
    },
    {
     "data": {
      "text/plain": "⎡\\overline{x_1} - x₁⎤\n⎢                   ⎥\n⎢\\overline{x_2} - x₂⎥\n⎢                   ⎥\n⎣\\overline{x_3} - x₃⎦",
      "text/latex": "$\\displaystyle \\left[\\begin{matrix}\\overline{x_1} - x_{1}\\\\\\overline{x_2} - x_{2}\\\\\\overline{x_3} - x_{3}\\end{matrix}\\right]$"
     },
     "execution_count": 4,
     "metadata": {},
     "output_type": "execute_result"
    }
   ],
   "source": [
    "x1_bar, x2_bar, x3_bar = sym.symbols('\\overline{x_1}, \\overline{x_2}, \\overline{x_3}')\n",
    "x_bar = sym.Matrix([[x1_bar], [x2_bar], [x3_bar]])\n",
    "d_k = x_bar - x\n",
    "display(Math(r'd_k: '))\n",
    "d_k"
   ],
   "metadata": {
    "collapsed": false,
    "pycharm": {
     "name": "#%%\n"
    }
   }
  },
  {
   "cell_type": "markdown",
   "source": [
    "Adesso visualizzo il nuovo aggiornamento"
   ],
   "metadata": {
    "collapsed": false
   }
  },
  {
   "cell_type": "code",
   "execution_count": 5,
   "outputs": [
    {
     "data": {
      "text/plain": "<IPython.core.display.Math object>",
      "text/latex": "$\\displaystyle x_k: $"
     },
     "metadata": {},
     "output_type": "display_data"
    },
    {
     "data": {
      "text/plain": "⎡\\alpha⋅(\\overline{x_1} - x₁) + x₁⎤\n⎢                                 ⎥\n⎢\\alpha⋅(\\overline{x_2} - x₂) + x₂⎥\n⎢                                 ⎥\n⎣\\alpha⋅(\\overline{x_3} - x₃) + x₃⎦",
      "text/latex": "$\\displaystyle \\left[\\begin{matrix}\\alpha \\left(\\overline{x_1} - x_{1}\\right) + x_{1}\\\\\\alpha \\left(\\overline{x_2} - x_{2}\\right) + x_{2}\\\\\\alpha \\left(\\overline{x_3} - x_{3}\\right) + x_{3}\\end{matrix}\\right]$"
     },
     "execution_count": 5,
     "metadata": {},
     "output_type": "execute_result"
    }
   ],
   "source": [
    "a = sym.symbols('\\\\alpha')\n",
    "x_k = x + a * d_k\n",
    "\n",
    "display(Math(r'x_k: '))\n",
    "x_k"
   ],
   "metadata": {
    "collapsed": false,
    "pycharm": {
     "name": "#%%\n"
    }
   }
  },
  {
   "cell_type": "markdown",
   "source": [
    "Adesso mi calcolo il gradiente"
   ],
   "metadata": {
    "collapsed": false
   }
  },
  {
   "cell_type": "code",
   "execution_count": 6,
   "outputs": [
    {
     "data": {
      "text/plain": "<IPython.core.display.Math object>",
      "text/latex": "$\\displaystyle \\nabla: $"
     },
     "metadata": {},
     "output_type": "display_data"
    },
    {
     "data": {
      "text/plain": "⎡     x₁      ⎤\n⎢             ⎥\n⎢     x₂      ⎥\n⎢             ⎥\n⎣0.1⋅x₃ + 0.55⎦",
      "text/latex": "$\\displaystyle \\left[\\begin{matrix}x_{1}\\\\x_{2}\\\\0.1 x_{3} + 0.55\\end{matrix}\\right]$"
     },
     "execution_count": 6,
     "metadata": {},
     "output_type": "execute_result"
    }
   ],
   "source": [
    "grad = x.T * Q + c.T\n",
    "display(Math(r'\\nabla: '))\n",
    "grad.T"
   ],
   "metadata": {
    "collapsed": false,
    "pycharm": {
     "name": "#%%\n"
    }
   }
  },
  {
   "cell_type": "markdown",
   "source": [
    "Adesso uso ciò che ho per creare il denominatore che mi servirà per calcolarmi ${\\alpha}$"
   ],
   "metadata": {
    "collapsed": false
   }
  },
  {
   "cell_type": "code",
   "execution_count": 7,
   "outputs": [
    {
     "data": {
      "text/plain": "<IPython.core.display.Math object>",
      "text/latex": "$\\displaystyle x_k^T * \\nabla^2 * x_k: $"
     },
     "metadata": {},
     "output_type": "display_data"
    },
    {
     "data": {
      "text/plain": "⎡                     2                        2                              \n⎣(\\overline{x_1} - x₁)  + (\\overline{x_2} - x₂)  + (0.1⋅\\overline{x_3} - 0.1⋅x\n\n                        ⎤\n₃)⋅(\\overline{x_3} - x₃)⎦",
      "text/latex": "$\\displaystyle \\left[\\begin{matrix}\\left(\\overline{x_1} - x_{1}\\right)^{2} + \\left(\\overline{x_2} - x_{2}\\right)^{2} + \\left(0.1 \\overline{x_3} - 0.1 x_{3}\\right) \\left(\\overline{x_3} - x_{3}\\right)\\end{matrix}\\right]$"
     },
     "execution_count": 7,
     "metadata": {},
     "output_type": "execute_result"
    }
   ],
   "source": [
    "denominator = (d_k.T * Q * d_k)\n",
    "display(Math(r'x_k^T * \\nabla^2 * x_k: '))\n",
    "denominator"
   ],
   "metadata": {
    "collapsed": false,
    "pycharm": {
     "name": "#%%\n"
    }
   }
  },
  {
   "cell_type": "markdown",
   "source": [
    "Adesso mi calcolo ${\\alpha}$ come forma chiusa e nella cella successiva sostituisco i valori:"
   ],
   "metadata": {
    "collapsed": false
   }
  },
  {
   "cell_type": "code",
   "execution_count": 8,
   "outputs": [
    {
     "data": {
      "text/plain": "⎡     x₁⋅(\\overline{x_1} - x₁) + x₂⋅(\\overline{x_2} - x₂) + (\\overline{x_3} - \n⎢─────────────────────────────────────────────────────────────────────────────\n⎢                     2                        2                              \n⎣(\\overline{x_1} - x₁)  + (\\overline{x_2} - x₂)  + (0.1⋅\\overline{x_3} - 0.1⋅x\n\nx₃)⋅(0.1⋅x₃ + 0.55)     ⎤\n────────────────────────⎥\n                        ⎥\n₃)⋅(\\overline{x_3} - x₃)⎦",
      "text/latex": "$\\displaystyle \\left[\\begin{matrix}\\frac{x_{1} \\left(\\overline{x_1} - x_{1}\\right) + x_{2} \\left(\\overline{x_2} - x_{2}\\right) + \\left(\\overline{x_3} - x_{3}\\right) \\left(0.1 x_{3} + 0.55\\right)}{\\left(\\overline{x_1} - x_{1}\\right)^{2} + \\left(\\overline{x_2} - x_{2}\\right)^{2} + \\left(0.1 \\overline{x_3} - 0.1 x_{3}\\right) \\left(\\overline{x_3} - x_{3}\\right)}\\end{matrix}\\right]$"
     },
     "execution_count": 8,
     "metadata": {},
     "output_type": "execute_result"
    }
   ],
   "source": [
    "alpha = (grad * d_k) / (d_k.T * Q * d_k)[0]\n",
    "alpha"
   ],
   "metadata": {
    "collapsed": false,
    "pycharm": {
     "name": "#%%\n"
    }
   }
  }
 ],
 "metadata": {
  "kernelspec": {
   "display_name": "Python 3",
   "language": "python",
   "name": "python3"
  },
  "language_info": {
   "codemirror_mode": {
    "name": "ipython",
    "version": 2
   },
   "file_extension": ".py",
   "mimetype": "text/x-python",
   "name": "python",
   "nbconvert_exporter": "python",
   "pygments_lexer": "ipython2",
   "version": "2.7.6"
  }
 },
 "nbformat": 4,
 "nbformat_minor": 0
}